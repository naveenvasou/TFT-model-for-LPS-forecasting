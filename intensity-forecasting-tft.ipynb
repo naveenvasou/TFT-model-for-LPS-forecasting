{
 "cells": [
  {
   "cell_type": "markdown",
   "metadata": {},
   "source": [
    "# Monsoon LPS Intensity Forecasting using TFT Model\n",
    "\n",
    "This notebook performs the following steps:\n",
    "- Loads and preprocesses the monsoon LPS track dataset\n",
    "- Computes rolling averages for selected meteorological variables\n",
    "- Limits each LPS track to a maximum length (5 days)\n",
    "- Prepares the data for training\n",
    "- Trains a Temporal Fusion Transformer (TFT) model\n",
    "- Evaluates the trained model\n",
    "\n",
    "---"
   ]
  },
  {
   "cell_type": "code",
   "execution_count": null,
   "metadata": {},
   "outputs": [],
   "source": [
    "# Import necessary libraries and modules\n",
    "import os\n",
    "import warnings\n",
    "import copy\n",
    "from pathlib import Path\n",
    "\n",
    "import numpy as np\n",
    "import pandas as pd\n",
    "import torch\n",
    "\n",
    "# Import the custom model class\n",
    "from models.IntensityForecasting import LPSIntensityForecasting"
   ]
  },
  {
   "cell_type": "markdown",
   "metadata": {},
   "source": [
    "## Load and preprocess the data"
   ]
  },
  {
   "cell_type": "code",
   "execution_count": null,
   "metadata": {},
   "outputs": [],
   "source": [
    "# Load main dataset and background data\n",
    "data = pd.read_csv(\"processed/all-lps-dataframe.csv\").drop(columns=['Unnamed: 0'])\n",
    "bg_data = pd.read_csv(\"processed/data_with_bg.csv\").drop(columns=['Unnamed: 0']).drop(columns=['Unnamed: 0.1'])\n",
    "\n",
    "# Convert datetime columns to pandas datetime format\n",
    "data['Genesis_Date'] = pd.to_datetime(data['Genesis_Date'])\n",
    "data['DateTime'] = pd.to_datetime(data['DateTime'])\n",
    "\n",
    "# Merge background variables into the main data\n",
    "data[\"Q850_bg\"] = bg_data[\"Q850_bg\"]\n",
    "data[\"VS_bg\"] = bg_data[\"VS_bg\"]"
   ]
  },
  {
   "cell_type": "markdown",
   "metadata": {},
   "source": [
    "## Create time index for each timestep within each LPS track"
   ]
  },
  {
   "cell_type": "code",
   "execution_count": null,
   "metadata": {},
   "outputs": [],
   "source": [
    "time_idx = []\n",
    "for i in range(1, len(data.groupby(\"id\").count()) + 1):\n",
    "    for j in range(data.groupby(\"id\").count()[\"Genesis_Date\"][i]):\n",
    "        time_idx.append(j)\n",
    "data[\"time_idx\"] = time_idx"
   ]
  },
  {
   "cell_type": "markdown",
   "metadata": {},
   "source": [
    "## Compute rolling averages for key variables (6-hour window)"
   ]
  },
  {
   "cell_type": "code",
   "execution_count": null,
   "metadata": {},
   "outputs": [],
   "source": [
    "rolling_columns = [\n",
    "    'Latitude', 'Longitude', 'mslp', 'ls_ratio', 'VO550', 'VO750', 'VO850',\n",
    "    'PV', 'Q850', 'Q850_grad', 'Q2', 'US_850', 'UN_850', 'VE_850', 'VW_850',\n",
    "    'T2', 'Z_tilt', 'integrated_mse', 'Z250', 'Z550', 'Z850', 'RF'\n",
    "]\n",
    "\n",
    "window_size = 6\n",
    "data_rolling = data.groupby('id')[rolling_columns].rolling(window=window_size, min_periods=1).mean().reset_index(drop=True)\n",
    "\n",
    "# Replace original columns with smoothed values\n",
    "data[rolling_columns] = data_rolling[rolling_columns]"
   ]
  },
  {
   "cell_type": "markdown",
   "metadata": {},
   "source": [
    "## Crop tracks longer than 5 days (120 time steps)"
   ]
  },
  {
   "cell_type": "code",
   "execution_count": null,
   "metadata": {},
   "outputs": [],
   "source": [
    "# Define the max allowed rows (5 days)\n",
    "max_rows = 8 * 24 \n",
    "\n",
    "def process_track(track):\n",
    "    # Crop the track if it's longer than 5 days\n",
    "    if len(track) > max_rows:\n",
    "        return track.iloc[:max_rows]\n",
    "    return track\n",
    "\n",
    "# Apply cropping function\n",
    "data = data.groupby('id', group_keys=False).apply(process_track)\n",
    "\n",
    "# Reset index after processing\n",
    "data.reset_index(drop=True, inplace=True)"
   ]
  },
  {
   "cell_type": "markdown",
   "metadata": {},
   "source": [
    "## Initialize the LPS Intensity Forecasting model"
   ]
  },
  {
   "cell_type": "code",
   "execution_count": null,
   "metadata": {},
   "outputs": [],
   "source": [
    "unknown_variables = [\n",
    "    \"Latitude\", \"Longitude\", \"mslp\", 'ls_ratio', 'VO850', \"PV\", \"T2\", \"Q850\",\n",
    "    \"Q2\", \"UN_850\", \"US_850\", \"VE_850\", \"RF\"\n",
    "]\n",
    "\n",
    "max_prediction_length = 5 * 24  # Forecasting 5 days ahead\n",
    "max_encoder_length = 24  # Using past 24 hours as input\n",
    "bg_data = [\"Q850_bg\", \"VS_bg\"]\n",
    "target = \"mslp\"\n",
    "\n",
    "# Instantiate the TFT-based forecasting model\n",
    "intensity_tft_model = LPSIntensityForecasting(\n",
    "    data=data,\n",
    "    target=target,\n",
    "    max_prediction_length=max_prediction_length,\n",
    "    max_encoder_length=max_encoder_length,\n",
    "    unknown_variables=unknown_variables,\n",
    "    bg_data=bg_data\n",
    ")"
   ]
  },
  {
   "cell_type": "markdown",
   "metadata": {},
   "source": [
    "## Train the model"
   ]
  },
  {
   "cell_type": "code",
   "execution_count": null,
   "metadata": {},
   "outputs": [],
   "source": [
    "intensity_tft_model.train()"
   ]
  },
  {
   "cell_type": "markdown",
   "metadata": {},
   "source": [
    "## Evaluate model performance"
   ]
  },
  {
   "cell_type": "code",
   "execution_count": null,
   "metadata": {},
   "outputs": [],
   "source": [
    "intensity_tft_model.evaluate()"
   ]
  }
 ],
 "metadata": {
  "language_info": {
   "name": "python"
  }
 },
 "nbformat": 4,
 "nbformat_minor": 2
}

