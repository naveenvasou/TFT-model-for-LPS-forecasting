{
 "cells": [
  {
   "cell_type": "code",
   "execution_count": null,
   "metadata": {},
   "outputs": [],
   "source": [
    "import os\n",
    "import warnings\n",
    "import copy\n",
    "from pathlib import Path\n",
    "import warnings\n",
    "\n",
    "import numpy as np\n",
    "import pandas as pd\n",
    "import torch\n",
    "from models.IntensityForecasting import LPSIntensityForecasting"
   ]
  },
  {
   "cell_type": "code",
   "execution_count": null,
   "metadata": {},
   "outputs": [],
   "source": [
    "data = pd.read_csv(\"processed/all-lps-dataframe.csv\").drop(columns=['Unnamed: 0'])\n",
    "bg_data = pd.read_csv(\"processed/data_with_bg.csv\").drop(columns=['Unnamed: 0']).drop(columns=['Unnamed: 0.1'])\n",
    "\n",
    "data['Genesis_Date'] = pd.to_datetime(data['Genesis_Date'])\n",
    "data['DateTime'] = pd.to_datetime(data['DateTime'])\n",
    "data[\"Q850_bg\"] = bg_data[\"Q850_bg\"]\n",
    "data[\"VS_bg\"] = bg_data[\"VS_bg\"]\n",
    "\n",
    "time_idx = []\n",
    "for i in range(1,len(data.groupby(\"id\").count())+1):\n",
    "  for j in range(0,data.groupby(\"id\").count()[\"Genesis_Date\"][i]):\n",
    "    time_idx.append(j)\n",
    "data[\"time_idx\"] = time_idx\n",
    "\n",
    "rolling_columns = ['Latitude', 'Longitude', 'mslp', 'ls_ratio',\n",
    "       'VO550', 'VO750', 'VO850', 'PV', 'Q850', 'Q850_grad', 'Q2', 'US_850',\n",
    "       'UN_850', 'VE_850', 'VW_850', 'T2', 'Z_tilt', 'integrated_mse', 'Z250',\n",
    "       'Z550', 'Z850', 'RF']  \n",
    "window_size = 6\n",
    "data_rolling = data.groupby('id')[rolling_columns].rolling(window=window_size, min_periods=1).mean().reset_index(drop=True)\n",
    "data[rolling_columns] = data_rolling[rolling_columns]"
   ]
  },
  {
   "cell_type": "code",
   "execution_count": null,
   "metadata": {},
   "outputs": [],
   "source": [
    "# Define the max allowed rows (5 days)\n",
    "max_rows = 8 * 24 \n",
    "\n",
    "def process_track(track):\n",
    "    track_length = len(track)\n",
    "    \n",
    "    # If track is longer than 5 days, crop it\n",
    "    if track_length > max_rows:\n",
    "        track = track.iloc[:max_rows]\n",
    "    \n",
    "    return track\n",
    "\n",
    "# Apply function to each track\n",
    "data = (\n",
    "    data.groupby('id', group_keys=False)\n",
    "    .apply(process_track)\n",
    ")\n",
    "\n",
    "# Reset index\n",
    "data.reset_index(drop=True, inplace=True)"
   ]
  },
  {
   "cell_type": "code",
   "execution_count": null,
   "metadata": {},
   "outputs": [],
   "source": [
    "unknown_variables = [\"Latitude\", \"Longitude\", \"mslp\", 'ls_ratio', 'VO850', \"PV\", \"T2\", \"Q850\",\n",
    "                     \"Q2\", \"UN_850\", \"US_850\", \"VE_850\", \"RF\" ]\n",
    "max_prediction_length = 5*24\n",
    "max_encoder_length = 24\n",
    "bg_data = [\"Q850_bg\", \"VS_bg\"]\n",
    "target = \"mslp\"\n",
    "\n",
    "intensity_tft_model = LPSIntensityForecasting(\n",
    "    data=data, target=target, max_prediction_length=max_prediction_length,\n",
    "    max_encoder_length = max_encoder_length,\n",
    "    unknown_variables = unknown_variables,\n",
    "    bg_data = bg_data\n",
    "    )"
   ]
  },
  {
   "cell_type": "code",
   "execution_count": null,
   "metadata": {},
   "outputs": [],
   "source": [
    "intensity_tft_model.train()"
   ]
  },
  {
   "cell_type": "code",
   "execution_count": null,
   "metadata": {},
   "outputs": [],
   "source": [
    "intensity_tft_model.evaluate()"
   ]
  }
 ],
 "metadata": {
  "language_info": {
   "name": "python"
  }
 },
 "nbformat": 4,
 "nbformat_minor": 2
}
